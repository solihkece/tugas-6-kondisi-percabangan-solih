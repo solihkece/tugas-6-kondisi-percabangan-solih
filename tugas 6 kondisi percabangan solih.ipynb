{
 "cells": [
  {
   "cell_type": "code",
   "execution_count": 1,
   "id": "6b2c84f6-72d3-47a7-b7da-a0b004bdf843",
   "metadata": {},
   "outputs": [
    {
     "name": "stdin",
     "output_type": "stream",
     "text": [
      "Masukkan umur anak:  5\n",
      "Masukkan tinggi anak (dalam cm):  80\n"
     ]
    },
    {
     "name": "stdout",
     "output_type": "stream",
     "text": [
      "Tarif harga: Rp 40000\n"
     ]
    }
   ],
   "source": [
    "umur = int(input(\"Masukkan umur anak: \"))\n",
    "\n",
    "if umur == 1:\n",
    "    print(\"Dilarang masuk\")\n",
    "elif umur < 2:\n",
    "    print(\"Dilarang masuk\")\n",
    "elif umur < 4:\n",
    "    tinggi = int(input(\"Masukkan tinggi anak (dalam cm): \"))\n",
    "    if umur == 2 and tinggi > 70:\n",
    "        tarif = 30000 + 10000\n",
    "    else:\n",
    "        tarif = 30000\n",
    "elif umur < 7:\n",
    "    tinggi = int(input(\"Masukkan tinggi anak (dalam cm): \"))\n",
    "    if umur <= 3 and tinggi > 120:\n",
    "        tarif = 40000 + 15000\n",
    "    else:\n",
    "        tarif = 40000\n",
    "elif umur < 10:\n",
    "    tinggi = int(input(\"Masukkan tinggi anak (dalam cm): \"))\n",
    "    if umur <= 6 and tinggi > 150:\n",
    "        tarif = 50000 + 20000\n",
    "    else:\n",
    "        tarif = 50000\n",
    "else:\n",
    "    tarif = 80000\n",
    "\n",
    "if umur > 1:\n",
    "    print(\"Tarif harga:\", \"Rp\", tarif)"
   ]
  },
  {
   "cell_type": "code",
   "execution_count": null,
   "id": "61dee8b5-96ea-4d8f-adce-496f2c27a327",
   "metadata": {},
   "outputs": [],
   "source": []
  }
 ],
 "metadata": {
  "kernelspec": {
   "display_name": "Python 3 (ipykernel)",
   "language": "python",
   "name": "python3"
  },
  "language_info": {
   "codemirror_mode": {
    "name": "ipython",
    "version": 3
   },
   "file_extension": ".py",
   "mimetype": "text/x-python",
   "name": "python",
   "nbconvert_exporter": "python",
   "pygments_lexer": "ipython3",
   "version": "3.11.7"
  }
 },
 "nbformat": 4,
 "nbformat_minor": 5
}
